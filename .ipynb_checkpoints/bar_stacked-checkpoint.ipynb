{
 "cells": [
  {
   "cell_type": "code",
   "execution_count": 1,
   "metadata": {},
   "outputs": [],
   "source": [
    "%matplotlib inline"
   ]
  },
  {
   "cell_type": "markdown",
   "metadata": {},
   "source": [
    "\n",
    "# Stacked Bar Graph\n",
    "\n",
    "\n",
    "This is an example of creating a stacked bar plot with error bars\n",
    "using `~matplotlib.pyplot.bar`.  Note the parameters *yerr* used for\n",
    "error bars, and *bottom* to stack the women's bars on top of the men's\n",
    "bars.\n",
    "\n",
    "\n"
   ]
  },
  {
   "cell_type": "code",
   "execution_count": 49,
   "metadata": {},
   "outputs": [
    {
     "data": {
      "image/png": "[encoded data removed]",
      "text/plain": [
       "<Figure size 432x288 with 1 Axes>"
      ]
     },
     "metadata": {
      "needs_background": "light"
     },
     "output_type": "display_data"
    }
   ],
   "source": [
    "import numpy as np\n",
    "import matplotlib.pyplot as plt\n",
    "\n",
    "sleep = [6, 6, 6, 6, 6]\n",
    "work = [8, 8, 8, 8, 8]\n",
    "sail = [1, 1, 1, 1, 1]\n",
    "read = [2, 2, 2, 2, 2]\n",
    "write = [5,5,5,5,5]\n",
    "\n",
    "x = np.arange(0,len(sleep))\n",
    "\n",
    "p1 = plt.bar(x, sleep)\n",
    "p2 = plt.bar(x, work, bottom = sleep)\n",
    "p3 = plt.bar(x, sail, bottom = work)\n",
    "p4 = plt.bar(x, read, bottom = sail)\n",
    "p5 = plt.bar(x, write, bottom=read)\n",
    "\n",
    "plt.ylabel('hrs')\n",
    "plt.title('dOS')\n",
    "plt.yticks(np.arange(0, 25, 1))\n",
    "plt.legend((p1[0], p2[0], p3[0], p4[0], p5[0]), ('sleep', 'work', 'sail', 'read', 'write'))\n",
    "\n",
    "plt.show()"
   ]
  },
  {
   "cell_type": "code",
   "execution_count": null,
   "metadata": {},
   "outputs": [],
   "source": []
  },
  {
   "cell_type": "code",
   "execution_count": null,
   "metadata": {},
   "outputs": [],
   "source": []
  }
 ],
 "metadata": {
  "kernelspec": {
   "display_name": "Python 3",
   "language": "python",
   "name": "python3"
  },
  "language_info": {
   "codemirror_mode": {
    "name": "ipython",
    "version": 3
   },
   "file_extension": ".py",
   "mimetype": "text/x-python",
   "name": "python",
   "nbconvert_exporter": "python",
   "pygments_lexer": "ipython3",
   "version": "3.7.0"
  }
 },
 "nbformat": 4,
 "nbformat_minor": 1
}
